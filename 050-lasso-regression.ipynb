{
 "cells": [
  {
   "metadata": {},
   "cell_type": "markdown",
   "source": "# Lasso Regression",
   "id": "6bbb0980c77fee2e"
  },
  {
   "metadata": {},
   "cell_type": "markdown",
   "source": "Sometimes written as LASSO as it's an acronym for Least Absolute Shrinkage and Selection Operator",
   "id": "4ed5ff2a81a1ac50"
  },
  {
   "metadata": {
    "ExecuteTime": {
     "end_time": "2025-01-30T18:14:44.702073Z",
     "start_time": "2025-01-30T18:14:43.826486Z"
    }
   },
   "cell_type": "code",
   "source": "from sklearn.linear_model import Lasso",
   "id": "a115e41eeebd0825",
   "outputs": [],
   "execution_count": 2
  },
  {
   "metadata": {
    "ExecuteTime": {
     "end_time": "2025-01-30T18:13:13.756298Z",
     "start_time": "2025-01-30T18:13:13.754499Z"
    }
   },
   "cell_type": "code",
   "source": "",
   "id": "b1ca5aed003d2c84",
   "outputs": [],
   "execution_count": null
  },
  {
   "metadata": {
    "ExecuteTime": {
     "end_time": "2025-01-30T18:13:13.764312Z",
     "start_time": "2025-01-30T18:13:13.761981Z"
    }
   },
   "cell_type": "code",
   "source": "",
   "id": "3314f2fd05cf0d23",
   "outputs": [],
   "execution_count": null
  },
  {
   "metadata": {
    "ExecuteTime": {
     "end_time": "2025-01-30T18:13:13.771793Z",
     "start_time": "2025-01-30T18:13:13.770087Z"
    }
   },
   "cell_type": "code",
   "source": "",
   "id": "4d3538d1faa246e4",
   "outputs": [],
   "execution_count": null
  },
  {
   "metadata": {
    "ExecuteTime": {
     "end_time": "2025-01-30T18:13:13.779293Z",
     "start_time": "2025-01-30T18:13:13.777488Z"
    }
   },
   "cell_type": "code",
   "source": "",
   "id": "771dfb802abdca49",
   "outputs": [],
   "execution_count": null
  },
  {
   "metadata": {
    "ExecuteTime": {
     "end_time": "2025-01-30T18:13:13.787296Z",
     "start_time": "2025-01-30T18:13:13.785743Z"
    }
   },
   "cell_type": "code",
   "source": "",
   "id": "9253b0a2eb9d2dfd",
   "outputs": [],
   "execution_count": null
  },
  {
   "metadata": {
    "ExecuteTime": {
     "end_time": "2025-01-30T18:13:13.795298Z",
     "start_time": "2025-01-30T18:13:13.793622Z"
    }
   },
   "cell_type": "code",
   "source": "",
   "id": "5e8178bc282eaecc",
   "outputs": [],
   "execution_count": null
  },
  {
   "metadata": {
    "ExecuteTime": {
     "end_time": "2025-01-30T18:13:13.802794Z",
     "start_time": "2025-01-30T18:13:13.800922Z"
    }
   },
   "cell_type": "code",
   "source": "",
   "id": "822d1987182b8bb0",
   "outputs": [],
   "execution_count": null
  },
  {
   "metadata": {
    "ExecuteTime": {
     "end_time": "2025-01-30T18:13:13.810800Z",
     "start_time": "2025-01-30T18:13:13.808672Z"
    }
   },
   "cell_type": "code",
   "source": "",
   "id": "15667daeff0b7801",
   "outputs": [],
   "execution_count": null
  },
  {
   "metadata": {
    "ExecuteTime": {
     "end_time": "2025-01-30T18:13:13.818297Z",
     "start_time": "2025-01-30T18:13:13.816454Z"
    }
   },
   "cell_type": "code",
   "source": "",
   "id": "9e95e5560d2100e0",
   "outputs": [],
   "execution_count": null
  },
  {
   "metadata": {
    "ExecuteTime": {
     "end_time": "2025-01-30T18:13:13.825793Z",
     "start_time": "2025-01-30T18:13:13.823954Z"
    }
   },
   "cell_type": "code",
   "source": "",
   "id": "c096058d15d5f72d",
   "outputs": [],
   "execution_count": null
  },
  {
   "metadata": {},
   "cell_type": "code",
   "outputs": [],
   "execution_count": null,
   "source": "",
   "id": "ab729ef8073915a1"
  }
 ],
 "metadata": {
  "kernelspec": {
   "display_name": "Python 3",
   "language": "python",
   "name": "python3"
  },
  "language_info": {
   "codemirror_mode": {
    "name": "ipython",
    "version": 2
   },
   "file_extension": ".py",
   "mimetype": "text/x-python",
   "name": "python",
   "nbconvert_exporter": "python",
   "pygments_lexer": "ipython2",
   "version": "2.7.6"
  }
 },
 "nbformat": 4,
 "nbformat_minor": 5
}
